{
 "cells": [
  {
   "cell_type": "markdown",
   "id": "29237420",
   "metadata": {
    "slideshow": {
     "slide_type": "slide"
    }
   },
   "source": [
    "# Quickstart"
   ]
  },
  {
   "cell_type": "code",
   "execution_count": 5,
   "id": "3cb2b7b8",
   "metadata": {
    "cell_style": "center",
    "slideshow": {
     "slide_type": "subslide"
    },
    "tags": []
   },
   "outputs": [
    {
     "ename": "AttributeError",
     "evalue": "partially initialized module 'jax' has no attribute 'version' (most likely due to a circular import)",
     "output_type": "error",
     "traceback": [
      "\u001b[0;31m---------------------------------------------------------------------------\u001b[0m",
      "\u001b[0;31mAttributeError\u001b[0m                            Traceback (most recent call last)",
      "Cell \u001b[0;32mIn[5], line 14\u001b[0m\n\u001b[1;32m      9\u001b[0m os\u001b[38;5;241m.\u001b[39menviron[\u001b[38;5;124m'\u001b[39m\u001b[38;5;124mXLA_PYTHON_CLIENT_MEM_FRACTION\u001b[39m\u001b[38;5;124m'\u001b[39m] \u001b[38;5;241m=\u001b[39m \u001b[38;5;124m'\u001b[39m\u001b[38;5;124m.95\u001b[39m\u001b[38;5;124m'\u001b[39m\n\u001b[1;32m     11\u001b[0m \u001b[38;5;66;03m# you do not want this\u001b[39;00m\n\u001b[1;32m     12\u001b[0m \u001b[38;5;66;03m#os.environ['XLA_FLAGS'] = '--xla_gpu_deterministic_ops=true'\u001b[39;00m\n\u001b[0;32m---> 14\u001b[0m \u001b[38;5;28;01mimport\u001b[39;00m \u001b[38;5;21;01mjax\u001b[39;00m\n\u001b[1;32m     15\u001b[0m \u001b[38;5;66;03m#jax.print_environment_info()\u001b[39;00m\n\u001b[1;32m     17\u001b[0m get_ipython()\u001b[38;5;241m.\u001b[39msystem(\u001b[38;5;124m'\u001b[39m\u001b[38;5;124mnvidia-smi --query-gpu=gpu_name --format=csv,noheader\u001b[39m\u001b[38;5;124m'\u001b[39m)\n",
      "File \u001b[0;32m~/papyrus/IC/pmwd/env/lib/python3.10/site-packages/jax/__init__.py:25\u001b[0m\n\u001b[1;32m     22\u001b[0m \u001b[38;5;28;01mfrom\u001b[39;00m \u001b[38;5;21;01mjax\u001b[39;00m\u001b[38;5;21;01m.\u001b[39;00m\u001b[38;5;21;01mversion\u001b[39;00m \u001b[38;5;28;01mimport\u001b[39;00m __version_info__ \u001b[38;5;28;01mas\u001b[39;00m __version_info__\n\u001b[1;32m     24\u001b[0m \u001b[38;5;66;03m# Set Cloud TPU env vars if necessary before transitively loading C++ backend\u001b[39;00m\n\u001b[0;32m---> 25\u001b[0m \u001b[38;5;28;01mfrom\u001b[39;00m \u001b[38;5;21;01mjax\u001b[39;00m\u001b[38;5;21;01m.\u001b[39;00m\u001b[38;5;21;01m_src\u001b[39;00m\u001b[38;5;21;01m.\u001b[39;00m\u001b[38;5;21;01mcloud_tpu_init\u001b[39;00m \u001b[38;5;28;01mimport\u001b[39;00m cloud_tpu_init \u001b[38;5;28;01mas\u001b[39;00m _cloud_tpu_init\n\u001b[1;32m     26\u001b[0m \u001b[38;5;28;01mtry\u001b[39;00m:\n\u001b[1;32m     27\u001b[0m   _cloud_tpu_init()\n",
      "File \u001b[0;32m~/papyrus/IC/pmwd/env/lib/python3.10/site-packages/jax/_src/cloud_tpu_init.py:17\u001b[0m\n\u001b[1;32m     15\u001b[0m \u001b[38;5;28;01mimport\u001b[39;00m \u001b[38;5;21;01mos\u001b[39;00m\n\u001b[1;32m     16\u001b[0m \u001b[38;5;28;01mfrom\u001b[39;00m \u001b[38;5;21;01mjax\u001b[39;00m \u001b[38;5;28;01mimport\u001b[39;00m version\n\u001b[0;32m---> 17\u001b[0m \u001b[38;5;28;01mfrom\u001b[39;00m \u001b[38;5;21;01mjax\u001b[39;00m\u001b[38;5;21;01m.\u001b[39;00m\u001b[38;5;21;01m_src\u001b[39;00m \u001b[38;5;28;01mimport\u001b[39;00m config\n\u001b[1;32m     18\u001b[0m \u001b[38;5;28;01mfrom\u001b[39;00m \u001b[38;5;21;01mjax\u001b[39;00m\u001b[38;5;21;01m.\u001b[39;00m\u001b[38;5;21;01m_src\u001b[39;00m \u001b[38;5;28;01mimport\u001b[39;00m hardware_utils\n\u001b[1;32m     20\u001b[0m running_in_cloud_tpu_vm: \u001b[38;5;28mbool\u001b[39m \u001b[38;5;241m=\u001b[39m \u001b[38;5;28;01mFalse\u001b[39;00m\n",
      "File \u001b[0;32m~/papyrus/IC/pmwd/env/lib/python3.10/site-packages/jax/_src/config.py:27\u001b[0m\n\u001b[1;32m     24\u001b[0m \u001b[38;5;28;01mimport\u001b[39;00m \u001b[38;5;21;01mthreading\u001b[39;00m\n\u001b[1;32m     25\u001b[0m \u001b[38;5;28;01mfrom\u001b[39;00m \u001b[38;5;21;01mtyping\u001b[39;00m \u001b[38;5;28;01mimport\u001b[39;00m Any, Generic, NamedTuple, NoReturn, Protocol, TypeVar, cast\n\u001b[0;32m---> 27\u001b[0m \u001b[38;5;28;01mfrom\u001b[39;00m \u001b[38;5;21;01mjax\u001b[39;00m\u001b[38;5;21;01m.\u001b[39;00m\u001b[38;5;21;01m_src\u001b[39;00m \u001b[38;5;28;01mimport\u001b[39;00m lib\n\u001b[1;32m     28\u001b[0m \u001b[38;5;28;01mfrom\u001b[39;00m \u001b[38;5;21;01mjax\u001b[39;00m\u001b[38;5;21;01m.\u001b[39;00m\u001b[38;5;21;01m_src\u001b[39;00m\u001b[38;5;21;01m.\u001b[39;00m\u001b[38;5;21;01mlib\u001b[39;00m \u001b[38;5;28;01mimport\u001b[39;00m jax_jit\n\u001b[1;32m     29\u001b[0m \u001b[38;5;28;01mfrom\u001b[39;00m \u001b[38;5;21;01mjax\u001b[39;00m\u001b[38;5;21;01m.\u001b[39;00m\u001b[38;5;21;01m_src\u001b[39;00m\u001b[38;5;21;01m.\u001b[39;00m\u001b[38;5;21;01mlib\u001b[39;00m \u001b[38;5;28;01mimport\u001b[39;00m transfer_guard_lib\n",
      "File \u001b[0;32m~/papyrus/IC/pmwd/env/lib/python3.10/site-packages/jax/_src/lib/__init__.py:76\u001b[0m\n\u001b[1;32m     71\u001b[0m   \u001b[38;5;28;01mreturn\u001b[39;00m _jaxlib_version\n\u001b[1;32m     74\u001b[0m version_str \u001b[38;5;241m=\u001b[39m jaxlib\u001b[38;5;241m.\u001b[39mversion\u001b[38;5;241m.\u001b[39m__version__\n\u001b[1;32m     75\u001b[0m version \u001b[38;5;241m=\u001b[39m check_jaxlib_version(\n\u001b[0;32m---> 76\u001b[0m   jax_version\u001b[38;5;241m=\u001b[39m\u001b[43mjax\u001b[49m\u001b[38;5;241;43m.\u001b[39;49m\u001b[43mversion\u001b[49m\u001b[38;5;241m.\u001b[39m__version__,\n\u001b[1;32m     77\u001b[0m   jaxlib_version\u001b[38;5;241m=\u001b[39mjaxlib\u001b[38;5;241m.\u001b[39mversion\u001b[38;5;241m.\u001b[39m__version__,\n\u001b[1;32m     78\u001b[0m   minimum_jaxlib_version\u001b[38;5;241m=\u001b[39mjax\u001b[38;5;241m.\u001b[39mversion\u001b[38;5;241m.\u001b[39m_minimum_jaxlib_version)\n\u001b[1;32m     80\u001b[0m \u001b[38;5;66;03m# Before importing any C compiled modules from jaxlib, first import the CPU\u001b[39;00m\n\u001b[1;32m     81\u001b[0m \u001b[38;5;66;03m# feature guard module to verify that jaxlib was compiled in a way that only\u001b[39;00m\n\u001b[1;32m     82\u001b[0m \u001b[38;5;66;03m# uses instructions that are present on this machine.\u001b[39;00m\n\u001b[1;32m     83\u001b[0m \u001b[38;5;28;01mimport\u001b[39;00m \u001b[38;5;21;01mjaxlib\u001b[39;00m\u001b[38;5;21;01m.\u001b[39;00m\u001b[38;5;21;01mcpu_feature_guard\u001b[39;00m \u001b[38;5;28;01mas\u001b[39;00m \u001b[38;5;21;01mcpu_feature_guard\u001b[39;00m\n",
      "\u001b[0;31mAttributeError\u001b[0m: partially initialized module 'jax' has no attribute 'version' (most likely due to a circular import)"
     ]
    }
   ],
   "source": [
    "import os\n",
    "\n",
    "# uncomment to disable NVIDIA GPUs\n",
    "#os.environ['CUDA_VISIBLE_DEVICES'] = ''\n",
    "# or pick the device (cpu, gpu, and tpu)\n",
    "#os.environ['JAX_PLATFORMS'] = 'cpu'\n",
    "\n",
    "# change JAX GPU memory preallocation fraction\n",
    "os.environ['XLA_PYTHON_CLIENT_MEM_FRACTION'] = '.95'\n",
    "\n",
    "# you do not want this\n",
    "#os.environ['XLA_FLAGS'] = '--xla_gpu_deterministic_ops=true'\n",
    "\n",
    "import jax\n",
    "#jax.print_environment_info()\n",
    "\n",
    "!nvidia-smi --query-gpu=gpu_name --format=csv,noheader"
   ]
  },
  {
   "cell_type": "code",
   "execution_count": 3,
   "id": "aaaee7c1",
   "metadata": {
    "slideshow": {
     "slide_type": "subslide"
    },
    "tags": []
   },
   "outputs": [],
   "source": [
    "import matplotlib.pyplot as plt\n",
    "\n",
    "from pmwd import (\n",
    "    Configuration,\n",
    "    Cosmology, SimpleLCDM,\n",
    "    boltzmann, linear_power, growth,\n",
    "    white_noise, linear_modes,\n",
    "    lpt,\n",
    "    nbody,\n",
    "    scatter,\n",
    ")\n",
    "from pmwd.pm_util import fftinv\n",
    "from pmwd.spec_util import powspec\n",
    "from pmwd.vis_util import simshow"
   ]
  },
  {
   "cell_type": "markdown",
   "id": "c6c7edc8",
   "metadata": {
    "slideshow": {
     "slide_type": "slide"
    }
   },
   "source": [
    "## Simulate Forward"
   ]
  },
  {
   "cell_type": "markdown",
   "id": "0e49bfa5",
   "metadata": {
    "slideshow": {
     "slide_type": "subslide"
    }
   },
   "source": [
    "`Configuration` stores static configuration and parameters for which we do not need derivatives."
   ]
  },
  {
   "cell_type": "code",
   "execution_count": 30,
   "id": "e03a1c7f-3ca4-479c-8052-3bfef6fd55d1",
   "metadata": {
    "cell_style": "center",
    "slideshow": {
     "slide_type": "-"
    },
    "tags": []
   },
   "outputs": [],
   "source": [
    "if jax.default_backend() == 'gpu':\n",
    "    ptcl_spacing = 1.  # Lagrangian space Cartesian particle grid spacing, in Mpc/h by default\n",
    "    ptcl_grid_shape = (256,) * 3\n",
    "else:\n",
    "    ptcl_spacing = 4.\n",
    "    ptcl_grid_shape = (64,) * 3\n",
    "\n",
    "conf = Configuration(ptcl_spacing, ptcl_grid_shape, mesh_shape=2)  # 2x mesh shape"
   ]
  },
  {
   "cell_type": "code",
   "execution_count": 31,
   "id": "5c0f1402",
   "metadata": {
    "slideshow": {
     "slide_type": "subslide"
    },
    "tags": []
   },
   "outputs": [
    {
     "name": "stdout",
     "output_type": "stream",
     "text": [
      "Configuration(ptcl_spacing=4.0,\n",
      "              ptcl_grid_shape=(64, 64, 64),\n",
      "              mesh_shape=(128, 128, 128),\n",
      "              cosmo_dtype=dtype('float64'),\n",
      "              pmid_dtype=dtype('int16'),\n",
      "              float_dtype=dtype('float32'),\n",
      "              k_pivot_Mpc=0.05,\n",
      "              T_cmb=2.7255,\n",
      "              M=1.98847e+40,\n",
      "              L=3.0856775815e+22,\n",
      "              T=3.0856775815e+17,\n",
      "              transfer_fit=True,\n",
      "              transfer_fit_nowiggle=False,\n",
      "              transfer_lgk_min=-4,\n",
      "              transfer_lgk_max=3,\n",
      "              transfer_lgk_maxstep=0.0078125,\n",
      "              growth_rtol=1.4901161193847656e-08,\n",
      "              growth_atol=1.4901161193847656e-08,\n",
      "              growth_inistep=(1, None),\n",
      "              lpt_order=2,\n",
      "              a_start=0.015625,\n",
      "              a_stop=1,\n",
      "              a_lpt_maxstep=0.0078125,\n",
      "              a_nbody_maxstep=0.015625,\n",
      "              symp_splits=((0, 0.5), (1, 0.5)),\n",
      "              chunk_size=16777216)\n",
      "Simulating 262144 particles with a (128, 128, 128) mesh for 63 time steps.\n"
     ]
    }
   ],
   "source": [
    "print(conf)  # with other default parameters\n",
    "print(f'Simulating {conf.ptcl_num} particles with a {conf.mesh_shape} mesh for {conf.a_nbody_num} time steps.')"
   ]
  },
  {
   "cell_type": "markdown",
   "id": "3249f227",
   "metadata": {
    "slideshow": {
     "slide_type": "subslide"
    }
   },
   "source": [
    "`Cosmology` stores interesting parameters, whose derivatives we need."
   ]
  },
  {
   "cell_type": "code",
   "execution_count": 32,
   "id": "e36a1ae7",
   "metadata": {
    "tags": []
   },
   "outputs": [
    {
     "name": "stdout",
     "output_type": "stream",
     "text": [
      "Cosmology(A_s_1e9=Array(2., dtype=float64),\n",
      "          n_s=Array(0.96, dtype=float64),\n",
      "          Omega_m=Array(0.3, dtype=float64),\n",
      "          Omega_b=Array(0.05, dtype=float64),\n",
      "          h=Array(0.7, dtype=float64),\n",
      "          Omega_k_=None,\n",
      "          w_0_=None,\n",
      "          w_a_=None,\n",
      "          transfer=None,\n",
      "          growth=None,\n",
      "          varlin=None)\n"
     ]
    }
   ],
   "source": [
    "# cosmo = Cosmology(conf, A_s_1e9=2.0, n_s=0.96, Omega_m=0.3, Omega_b=0.05, h=0.7)\n",
    "# or simply use the predefined SimpleLCDM\n",
    "cosmo = SimpleLCDM(conf)\n",
    "\n",
    "print(cosmo)"
   ]
  },
  {
   "cell_type": "markdown",
   "id": "bf4e3d4f",
   "metadata": {
    "slideshow": {
     "slide_type": "subslide"
    }
   },
   "source": [
    "``boltzmann`` computes the transfer and growth functions and caches them in ``Cosmology``.\n",
    "\n",
    "The first run is slower because it includes the **JIT compilation** time. JAX uses **asynchronous dispatch** to hide Python overheads. To measure the true cost, use ``jax.block_until_ready()`` to wait for the computation to complete."
   ]
  },
  {
   "cell_type": "code",
   "execution_count": 33,
   "id": "8c5e7168",
   "metadata": {
    "tags": []
   },
   "outputs": [
    {
     "name": "stdout",
     "output_type": "stream",
     "text": [
      "CPU times: user 11.9 ms, sys: 152 μs, total: 12 ms\n",
      "Wall time: 9.53 ms\n",
      "4.55 ms ± 249 μs per loop (mean ± std. dev. of 7 runs, 100 loops each)\n"
     ]
    }
   ],
   "source": [
    "%time cosmo = jax.block_until_ready(boltzmann(cosmo, conf))\n",
    "%timeit jax.block_until_ready(boltzmann(cosmo, conf))"
   ]
  },
  {
   "cell_type": "markdown",
   "id": "cf681169",
   "metadata": {
    "slideshow": {
     "slide_type": "subslide"
    }
   },
   "source": [
    "Generate a white noise field, and scale it with the linear power spectrum:"
   ]
  },
  {
   "cell_type": "code",
   "execution_count": 35,
   "id": "daaa93ce",
   "metadata": {
    "tags": []
   },
   "outputs": [
    {
     "ename": "ValueError",
     "evalue": "the `static_argnums` argument to `jax.checkpoint` / `jax.remat` can only take integer values greater than or equal to `-len(args)` and less than `len(args)`, but got (4,)",
     "output_type": "error",
     "traceback": [
      "\u001b[0;31m---------------------------------------------------------------------------\u001b[0m",
      "\u001b[0;31mValueError\u001b[0m                                Traceback (most recent call last)",
      "Cell \u001b[0;32mIn[35], line 3\u001b[0m\n\u001b[1;32m      1\u001b[0m seed \u001b[38;5;241m=\u001b[39m\u001b[38;5;241m0\u001b[39m\n\u001b[1;32m      2\u001b[0m modes \u001b[38;5;241m=\u001b[39m white_noise(seed, conf)\n\u001b[0;32m----> 3\u001b[0m modes \u001b[38;5;241m=\u001b[39m \u001b[43mlinear_modes\u001b[49m\u001b[43m(\u001b[49m\u001b[43mmodes\u001b[49m\u001b[43m,\u001b[49m\u001b[43m \u001b[49m\u001b[43mcosmo\u001b[49m\u001b[43m,\u001b[49m\u001b[43m \u001b[49m\u001b[43mconf\u001b[49m\u001b[43m)\u001b[49m\n",
      "    \u001b[0;31m[... skipping hidden 13 frame]\u001b[0m\n",
      "File \u001b[0;32m~/papyrus/IC/pmwd/env/lib/python3.10/site-packages/jax/_src/ad_checkpoint.py:341\u001b[0m, in \u001b[0;36m_remat_static_argnums\u001b[0;34m(fun, static_argnums, args)\u001b[0m\n\u001b[1;32m    336\u001b[0m   \u001b[38;5;28;01mraise\u001b[39;00m \u001b[38;5;167;01mTypeError\u001b[39;00m(\u001b[38;5;124m\"\u001b[39m\u001b[38;5;124mthe `static_argnums` argument to `jax.checkpoint` / \u001b[39m\u001b[38;5;124m\"\u001b[39m\n\u001b[1;32m    337\u001b[0m                   \u001b[38;5;124m\"\u001b[39m\u001b[38;5;124m`jax.remat` must be an int, tuple of ints or, bool, but \u001b[39m\u001b[38;5;124m\"\u001b[39m\n\u001b[1;32m    338\u001b[0m                   \u001b[38;5;124mf\u001b[39m\u001b[38;5;124m\"\u001b[39m\u001b[38;5;124mgot value \u001b[39m\u001b[38;5;132;01m{\u001b[39;00mstatic_argnums\u001b[38;5;132;01m}\u001b[39;00m\u001b[38;5;124m\"\u001b[39m)\n\u001b[1;32m    340\u001b[0m \u001b[38;5;28;01mif\u001b[39;00m \u001b[38;5;129;01mnot\u001b[39;00m \u001b[38;5;28mall\u001b[39m(\u001b[38;5;241m-\u001b[39m\u001b[38;5;28mlen\u001b[39m(args) \u001b[38;5;241m<\u001b[39m\u001b[38;5;241m=\u001b[39m d \u001b[38;5;241m<\u001b[39m \u001b[38;5;28mlen\u001b[39m(args) \u001b[38;5;28;01mfor\u001b[39;00m d \u001b[38;5;129;01min\u001b[39;00m static_argnums):\n\u001b[0;32m--> 341\u001b[0m   \u001b[38;5;28;01mraise\u001b[39;00m \u001b[38;5;167;01mValueError\u001b[39;00m(\u001b[38;5;124m\"\u001b[39m\u001b[38;5;124mthe `static_argnums` argument to `jax.checkpoint` / \u001b[39m\u001b[38;5;124m\"\u001b[39m\n\u001b[1;32m    342\u001b[0m                    \u001b[38;5;124m\"\u001b[39m\u001b[38;5;124m`jax.remat` can only take integer values greater than or \u001b[39m\u001b[38;5;124m\"\u001b[39m\n\u001b[1;32m    343\u001b[0m                    \u001b[38;5;124m\"\u001b[39m\u001b[38;5;124mequal to `-len(args)` and less than `len(args)`, but got \u001b[39m\u001b[38;5;124m\"\u001b[39m\n\u001b[1;32m    344\u001b[0m                    \u001b[38;5;124mf\u001b[39m\u001b[38;5;124m\"\u001b[39m\u001b[38;5;132;01m{\u001b[39;00mstatic_argnums\u001b[38;5;132;01m}\u001b[39;00m\u001b[38;5;124m\"\u001b[39m)\n\u001b[1;32m    346\u001b[0m \u001b[38;5;28;01mif\u001b[39;00m \u001b[38;5;129;01mnot\u001b[39;00m static_argnums:\n\u001b[1;32m    347\u001b[0m   \u001b[38;5;28;01mreturn\u001b[39;00m fun, args\n",
      "\u001b[0;31mValueError\u001b[0m: the `static_argnums` argument to `jax.checkpoint` / `jax.remat` can only take integer values greater than or equal to `-len(args)` and less than `len(args)`, but got (4,)"
     ]
    }
   ],
   "source": [
    "seed =0\n",
    "modes = white_noise(seed, conf)\n",
    "modes = linear_modes(modes, cosmo, conf)\n"
   ]
  },
  {
   "cell_type": "markdown",
   "id": "737cfc42",
   "metadata": {
    "slideshow": {
     "slide_type": "subslide"
    }
   },
   "source": [
    "Solve LPT at some early time:"
   ]
  },
  {
   "cell_type": "code",
   "execution_count": 19,
   "id": "db10419a",
   "metadata": {
    "tags": []
   },
   "outputs": [
    {
     "name": "stdout",
     "output_type": "stream",
     "text": [
      "CPU times: user 1 s, sys: 160 ms, total: 1.16 s\n",
      "Wall time: 668 ms\n",
      "23.3 ms ± 799 μs per loop (mean ± std. dev. of 7 runs, 10 loops each)\n"
     ]
    },
    {
     "data": {
      "text/plain": [
       "(Array(4.794e-07, dtype=float32), Array(3.282e-08, dtype=float32))"
      ]
     },
     "execution_count": 19,
     "metadata": {},
     "output_type": "execute_result"
    }
   ],
   "source": [
    "%time ptcl, obsvbl = jax.block_until_ready(lpt(modes, cosmo, conf))\n",
    "%timeit jax.block_until_ready(lpt(modes, cosmo, conf))\n",
    "ptcl.disp.std(), ptcl.vel.std()"
   ]
  },
  {
   "cell_type": "markdown",
   "id": "2f9435ac",
   "metadata": {
    "slideshow": {
     "slide_type": "subslide"
    }
   },
   "source": [
    "Finally, N-body time integration from the LPT initial conditions:"
   ]
  },
  {
   "cell_type": "code",
   "execution_count": 20,
   "id": "440cab3f",
   "metadata": {
    "tags": []
   },
   "outputs": [
    {
     "name": "stdout",
     "output_type": "stream",
     "text": [
      "CPU times: user 28.2 s, sys: 5.1 s, total: 33.3 s\n",
      "Wall time: 15.6 s\n",
      "CPU times: user 26.8 s, sys: 4.37 s, total: 31.2 s\n",
      "Wall time: 14.5 s\n"
     ]
    },
    {
     "data": {
      "text/plain": [
       "(Array(9.823e-05, dtype=float32), Array(7.557e-05, dtype=float32))"
      ]
     },
     "execution_count": 20,
     "metadata": {},
     "output_type": "execute_result"
    }
   ],
   "source": [
    "%time jax.block_until_ready(nbody(ptcl, obsvbl, cosmo, conf))\n",
    "%time ptcl, obsvbl = jax.block_until_ready(nbody(ptcl, obsvbl, cosmo, conf))\n",
    "ptcl.disp.std(), ptcl.vel.std()"
   ]
  },
  {
   "cell_type": "markdown",
   "id": "1d4b6c54",
   "metadata": {
    "slideshow": {
     "slide_type": "subslide"
    }
   },
   "source": [
    "Scatter the particles to mesh to get the density field, and plot a slab's 2D projection:"
   ]
  },
  {
   "cell_type": "code",
   "execution_count": 39,
   "id": "ac0a4dcf",
   "metadata": {
    "slideshow": {
     "slide_type": ""
    },
    "tags": []
   },
   "outputs": [
    {
     "name": "stderr",
     "output_type": "stream",
     "text": [
      "/home/bepo/papyrus/IC/pmwd/venv/lib/python3.10/site-packages/pmwd/vis_util.py:161: RuntimeWarning: overflow encountered in power\n",
      "  return np.exp(- (x / a) ** alpha) / (1 + (x / b) ** beta)\n",
      "/home/bepo/papyrus/IC/pmwd/venv/lib/python3.10/site-packages/pmwd/vis_util.py:201: RuntimeWarning: divide by zero encountered in log\n",
      "  return np.log(self.ccdf(x, *p))\n",
      "/home/bepo/papyrus/IC/pmwd/venv/lib/python3.10/site-packages/pmwd/vis_util.py:63: UserWarning: Attempting to set identical low and high ylims makes transformation singular; automatically expanding.\n",
      "  cb = fig.colorbar(im)\n"
     ]
    },
    {
     "ename": "IndexError",
     "evalue": "index -1 is out of bounds for axis 0 with size 0",
     "output_type": "error",
     "traceback": [
      "\u001b[0;31m---------------------------------------------------------------------------\u001b[0m",
      "\u001b[0;31mIndexError\u001b[0m                                Traceback (most recent call last)",
      "Cell \u001b[0;32mIn[39], line 2\u001b[0m\n\u001b[1;32m      1\u001b[0m dens \u001b[38;5;241m=\u001b[39m scatter(ptcl, conf)\n\u001b[0;32m----> 2\u001b[0m \u001b[43msimshow\u001b[49m\u001b[43m(\u001b[49m\u001b[43mdens\u001b[49m\u001b[43m[\u001b[49m\u001b[43m:\u001b[49m\u001b[38;5;241;43m16\u001b[39;49m\u001b[43m]\u001b[49m\u001b[38;5;241;43m.\u001b[39;49m\u001b[43mmean\u001b[49m\u001b[43m(\u001b[49m\u001b[43maxis\u001b[49m\u001b[38;5;241;43m=\u001b[39;49m\u001b[38;5;241;43m0\u001b[39;49m\u001b[43m)\u001b[49m\u001b[43m,\u001b[49m\u001b[43m \u001b[49m\u001b[43mnorm\u001b[49m\u001b[38;5;241;43m=\u001b[39;49m\u001b[38;5;124;43m'\u001b[39;49m\u001b[38;5;124;43mCosmicWebNorm\u001b[39;49m\u001b[38;5;124;43m'\u001b[39;49m\u001b[43m)\u001b[49m;\n",
      "File \u001b[0;32m~/papyrus/IC/pmwd/venv/lib/python3.10/site-packages/pmwd/vis_util.py:65\u001b[0m, in \u001b[0;36msimshow\u001b[0;34m(x, figsize, dpi, cmap, norm, colorbar, interpolation, interpolation_stage, **kwargs)\u001b[0m\n\u001b[1;32m     63\u001b[0m cb \u001b[38;5;241m=\u001b[39m fig\u001b[38;5;241m.\u001b[39mcolorbar(im)\n\u001b[1;32m     64\u001b[0m \u001b[38;5;28;01mtry\u001b[39;00m:\n\u001b[0;32m---> 65\u001b[0m     ticks, ticklabels \u001b[38;5;241m=\u001b[39m \u001b[43mnorm\u001b[49m\u001b[38;5;241;43m.\u001b[39;49m\u001b[43mget_colorbar_ticks\u001b[49m\u001b[43m(\u001b[49m\u001b[43m)\u001b[49m  \u001b[38;5;66;03m# for CosmicWebNorm\u001b[39;00m\n\u001b[1;32m     66\u001b[0m     cb\u001b[38;5;241m.\u001b[39mset_ticks(ticks, labels\u001b[38;5;241m=\u001b[39mticklabels)\n\u001b[1;32m     67\u001b[0m \u001b[38;5;28;01mexcept\u001b[39;00m \u001b[38;5;167;01mAttributeError\u001b[39;00m:\n",
      "File \u001b[0;32m~/papyrus/IC/pmwd/venv/lib/python3.10/site-packages/pmwd/vis_util.py:251\u001b[0m, in \u001b[0;36mCosmicWebNorm.get_colorbar_ticks\u001b[0;34m(self, subs, sep)\u001b[0m\n\u001b[1;32m    249\u001b[0m i, \u001b[38;5;241m=\u001b[39m np\u001b[38;5;241m.\u001b[39mnonzero(np\u001b[38;5;241m.\u001b[39mdiff(y) \u001b[38;5;241m>\u001b[39m sep)\n\u001b[1;32m    250\u001b[0m i \u001b[38;5;241m=\u001b[39m np\u001b[38;5;241m.\u001b[39msort(i)\n\u001b[0;32m--> 251\u001b[0m i \u001b[38;5;241m=\u001b[39m np\u001b[38;5;241m.\u001b[39mappend(i, \u001b[43mi\u001b[49m\u001b[43m[\u001b[49m\u001b[38;5;241;43m-\u001b[39;49m\u001b[38;5;241;43m1\u001b[39;49m\u001b[43m]\u001b[49m \u001b[38;5;241m+\u001b[39m \u001b[38;5;241m1\u001b[39m)\n\u001b[1;32m    252\u001b[0m ticks \u001b[38;5;241m=\u001b[39m x[i]\n\u001b[1;32m    254\u001b[0m ticklabels \u001b[38;5;241m=\u001b[39m [\u001b[38;5;28mstr\u001b[39m(x) \u001b[38;5;28;01mfor\u001b[39;00m x \u001b[38;5;129;01min\u001b[39;00m ticks]\n",
      "\u001b[0;31mIndexError\u001b[0m: index -1 is out of bounds for axis 0 with size 0"
     ]
    },
    {
     "name": "stderr",
     "output_type": "stream",
     "text": [
      "/home/bepo/papyrus/IC/pmwd/venv/lib/python3.10/site-packages/numpy/ma/core.py:7165: RuntimeWarning: overflow encountered in power\n",
      "  result = np.where(m, fa, umath.power(fa, fb)).view(basetype)\n",
      "/home/bepo/papyrus/IC/pmwd/venv/lib/python3.10/site-packages/pmwd/vis_util.py:161: RuntimeWarning: invalid value encountered in power\n",
      "  return np.exp(- (x / a) ** alpha) / (1 + (x / b) ** beta)\n",
      "/home/bepo/papyrus/IC/pmwd/venv/lib/python3.10/site-packages/numpy/ma/core.py:7165: RuntimeWarning: overflow encountered in power\n",
      "  result = np.where(m, fa, umath.power(fa, fb)).view(basetype)\n",
      "/home/bepo/papyrus/IC/pmwd/venv/lib/python3.10/site-packages/pmwd/vis_util.py:161: RuntimeWarning: invalid value encountered in power\n",
      "  return np.exp(- (x / a) ** alpha) / (1 + (x / b) ** beta)\n"
     ]
    },
    {
     "data": {
      "image/jpeg": "[encoded data removed]",
      "text/plain": [
       "<Figure size 604.8x470.4 with 2 Axes>"
      ]
     },
     "metadata": {},
     "output_type": "display_data"
    }
   ],
   "source": [
    "dens = scatter(ptcl, conf)\n",
    "simshow(dens[:16].mean(axis=0), norm='CosmicWebNorm');"
   ]
  },
  {
   "cell_type": "markdown",
   "id": "5dbd7441-3cef-4721-be9f-1dffe9d07543",
   "metadata": {
    "slideshow": {
     "slide_type": "subslide"
    }
   },
   "source": [
    "Measure and plot the matter density power spectra:"
   ]
  },
  {
   "cell_type": "code",
   "execution_count": 11,
   "id": "7f424b83-c1d4-425a-a0a0-feadf1918d68",
   "metadata": {
    "tags": []
   },
   "outputs": [
    {
     "data": {
      "image/jpeg": "[encoded data removed]",
      "text/plain": [
       "<Figure size 480x360 with 1 Axes>"
      ]
     },
     "metadata": {},
     "output_type": "display_data"
    }
   ],
   "source": [
    "k, P, _, _ = powspec(dens, conf.cell_size)\n",
    "\n",
    "dens_lin = fftinv(modes, shape=conf.ptcl_grid_shape, norm=conf.ptcl_spacing)\n",
    "dens_lin *= growth(conf.a_stop, cosmo, conf)\n",
    "k_lin, P_lin, _, _ = powspec(dens_lin, conf.ptcl_spacing)\n",
    "\n",
    "P_linth = linear_power(k, conf.a_stop, cosmo, conf)\n",
    "\n",
    "plt.figure(figsize=(4, 3), dpi=120)\n",
    "plt.loglog(k, P_linth, ls='--', label='linear theory')\n",
    "plt.loglog(k_lin, P_lin, ls=':', label='linear')\n",
    "plt.loglog(k, P, ls='-', label='nonlinear')\n",
    "plt.legend();"
   ]
  },
  {
   "cell_type": "markdown",
   "id": "48748218",
   "metadata": {
    "slideshow": {
     "slide_type": "subslide"
    }
   },
   "source": [
    "We can combine all steps together:"
   ]
  },
  {
   "cell_type": "code",
   "execution_count": 11,
   "id": "07ff8ab8",
   "metadata": {
    "cell_style": "center",
    "tags": []
   },
   "outputs": [
    {
     "name": "stdout",
     "output_type": "stream",
     "text": [
      "Simulating 262144 particles with a (128, 128, 128) mesh for 63 time steps.\n"
     ]
    },
    {
     "ename": "ValueError",
     "evalue": "the `static_argnums` argument to `jax.checkpoint` / `jax.remat` can only take integer values greater than or equal to `-len(args)` and less than `len(args)`, but got (4,)",
     "output_type": "error",
     "traceback": [
      "\u001b[0;31m---------------------------------------------------------------------------\u001b[0m",
      "\u001b[0;31mValueError\u001b[0m                                Traceback (most recent call last)",
      "File \u001b[0;32m<timed eval>:1\u001b[0m\n",
      "Cell \u001b[0;32mIn[11], line 6\u001b[0m, in \u001b[0;36mmodel\u001b[0;34m(modes, cosmo, conf)\u001b[0m\n\u001b[1;32m      4\u001b[0m \u001b[38;5;28;01mdef\u001b[39;00m \u001b[38;5;21mmodel\u001b[39m(modes, cosmo, conf):\n\u001b[1;32m      5\u001b[0m     cosmo \u001b[38;5;241m=\u001b[39m boltzmann(cosmo, conf)\n\u001b[0;32m----> 6\u001b[0m     modes \u001b[38;5;241m=\u001b[39m \u001b[43mlinear_modes\u001b[49m\u001b[43m(\u001b[49m\u001b[43mmodes\u001b[49m\u001b[43m,\u001b[49m\u001b[43m \u001b[49m\u001b[43mcosmo\u001b[49m\u001b[43m,\u001b[49m\u001b[43m \u001b[49m\u001b[43mconf\u001b[49m\u001b[43m)\u001b[49m\n\u001b[1;32m      7\u001b[0m     ptcl, obsvbl \u001b[38;5;241m=\u001b[39m lpt(modes, cosmo, conf)\n\u001b[1;32m      8\u001b[0m     ptcl, obsvbl \u001b[38;5;241m=\u001b[39m nbody(ptcl, obsvbl, cosmo, conf)\n",
      "    \u001b[0;31m[... skipping hidden 13 frame]\u001b[0m\n",
      "File \u001b[0;32m~/papyrus/IC/pmwd/env/lib/python3.10/site-packages/jax/_src/ad_checkpoint.py:341\u001b[0m, in \u001b[0;36m_remat_static_argnums\u001b[0;34m(fun, static_argnums, args)\u001b[0m\n\u001b[1;32m    336\u001b[0m   \u001b[38;5;28;01mraise\u001b[39;00m \u001b[38;5;167;01mTypeError\u001b[39;00m(\u001b[38;5;124m\"\u001b[39m\u001b[38;5;124mthe `static_argnums` argument to `jax.checkpoint` / \u001b[39m\u001b[38;5;124m\"\u001b[39m\n\u001b[1;32m    337\u001b[0m                   \u001b[38;5;124m\"\u001b[39m\u001b[38;5;124m`jax.remat` must be an int, tuple of ints or, bool, but \u001b[39m\u001b[38;5;124m\"\u001b[39m\n\u001b[1;32m    338\u001b[0m                   \u001b[38;5;124mf\u001b[39m\u001b[38;5;124m\"\u001b[39m\u001b[38;5;124mgot value \u001b[39m\u001b[38;5;132;01m{\u001b[39;00mstatic_argnums\u001b[38;5;132;01m}\u001b[39;00m\u001b[38;5;124m\"\u001b[39m)\n\u001b[1;32m    340\u001b[0m \u001b[38;5;28;01mif\u001b[39;00m \u001b[38;5;129;01mnot\u001b[39;00m \u001b[38;5;28mall\u001b[39m(\u001b[38;5;241m-\u001b[39m\u001b[38;5;28mlen\u001b[39m(args) \u001b[38;5;241m<\u001b[39m\u001b[38;5;241m=\u001b[39m d \u001b[38;5;241m<\u001b[39m \u001b[38;5;28mlen\u001b[39m(args) \u001b[38;5;28;01mfor\u001b[39;00m d \u001b[38;5;129;01min\u001b[39;00m static_argnums):\n\u001b[0;32m--> 341\u001b[0m   \u001b[38;5;28;01mraise\u001b[39;00m \u001b[38;5;167;01mValueError\u001b[39;00m(\u001b[38;5;124m\"\u001b[39m\u001b[38;5;124mthe `static_argnums` argument to `jax.checkpoint` / \u001b[39m\u001b[38;5;124m\"\u001b[39m\n\u001b[1;32m    342\u001b[0m                    \u001b[38;5;124m\"\u001b[39m\u001b[38;5;124m`jax.remat` can only take integer values greater than or \u001b[39m\u001b[38;5;124m\"\u001b[39m\n\u001b[1;32m    343\u001b[0m                    \u001b[38;5;124m\"\u001b[39m\u001b[38;5;124mequal to `-len(args)` and less than `len(args)`, but got \u001b[39m\u001b[38;5;124m\"\u001b[39m\n\u001b[1;32m    344\u001b[0m                    \u001b[38;5;124mf\u001b[39m\u001b[38;5;124m\"\u001b[39m\u001b[38;5;132;01m{\u001b[39;00mstatic_argnums\u001b[38;5;132;01m}\u001b[39;00m\u001b[38;5;124m\"\u001b[39m)\n\u001b[1;32m    346\u001b[0m \u001b[38;5;28;01mif\u001b[39;00m \u001b[38;5;129;01mnot\u001b[39;00m static_argnums:\n\u001b[1;32m    347\u001b[0m   \u001b[38;5;28;01mreturn\u001b[39;00m fun, args\n",
      "\u001b[0;31mValueError\u001b[0m: the `static_argnums` argument to `jax.checkpoint` / `jax.remat` can only take integer values greater than or equal to `-len(args)` and less than `len(args)`, but got (4,)"
     ]
    }
   ],
   "source": [
    "cosmo = SimpleLCDM(conf)\n",
    "modes = white_noise(seed, conf)\n",
    "\n",
    "def model(modes, cosmo, conf):\n",
    "    cosmo = boltzmann(cosmo, conf)\n",
    "    modes = linear_modes(modes, cosmo, conf)\n",
    "    ptcl, obsvbl = lpt(modes, cosmo, conf)\n",
    "    ptcl, obsvbl = nbody(ptcl, obsvbl, cosmo, conf)\n",
    "    return ptcl, obsvbl\n",
    "\n",
    "print(f'Simulating {conf.ptcl_num} particles with a {conf.mesh_shape} mesh for {conf.a_nbody_num} time steps.')\n",
    "%time jax.block_until_ready(model(modes, cosmo, conf));"
   ]
  },
  {
   "cell_type": "markdown",
   "id": "8adba199",
   "metadata": {
    "slideshow": {
     "slide_type": "slide"
    }
   },
   "source": [
    "## Simulate Forward and Differentiate Backward"
   ]
  },
  {
   "cell_type": "markdown",
   "id": "a3aaa69a",
   "metadata": {
    "slideshow": {
     "slide_type": "subslide"
    }
   },
   "source": [
    "For the gradient, we use the same ``Configuration`` and ``Cosmology`` as before, but different white noise ``modes``."
   ]
  },
  {
   "cell_type": "code",
   "execution_count": 13,
   "id": "9a1e9378",
   "metadata": {
    "tags": []
   },
   "outputs": [],
   "source": [
    "seed = 1  # change the seed for a different realization, to be compared to the previous one in the objective\n",
    "modes = white_noise(seed, conf, real=True)  # this time we want real modes to look at their gradients"
   ]
  },
  {
   "cell_type": "markdown",
   "id": "33099d1d",
   "metadata": {
    "slideshow": {
     "slide_type": "subslide"
    }
   },
   "source": [
    "Define a simple MSE objective function between this and the previous realizations of density fields, and differentiate it with respect to the modes and cosmological parameters:"
   ]
  },
  {
   "cell_type": "code",
   "execution_count": 14,
   "id": "a8119a3f-3900-4d13-bfe7-e6d747dfb563",
   "metadata": {
    "tags": []
   },
   "outputs": [
    {
     "name": "stdout",
     "output_type": "stream",
     "text": [
      "Simulating 262144 particles with a (128, 128, 128) mesh for 63 time steps, and then differentiating backward.\n"
     ]
    },
    {
     "ename": "ValueError",
     "evalue": "the `static_argnums` argument to `jax.checkpoint` / `jax.remat` can only take integer values greater than or equal to `-len(args)` and less than `len(args)`, but got (4,)",
     "output_type": "error",
     "traceback": [
      "\u001b[0;31m---------------------------------------------------------------------------\u001b[0m",
      "\u001b[0;31mValueError\u001b[0m                                Traceback (most recent call last)",
      "File \u001b[0;32m<timed eval>:1\u001b[0m\n",
      "    \u001b[0;31m[... skipping hidden 10 frame]\u001b[0m\n",
      "Cell \u001b[0;32mIn[14], line 3\u001b[0m, in \u001b[0;36mobj\u001b[0;34m(tgt_dens, modes, cosmo, conf)\u001b[0m\n\u001b[1;32m      1\u001b[0m \u001b[38;5;28;01mdef\u001b[39;00m \u001b[38;5;21mobj\u001b[39m(tgt_dens, modes, cosmo, conf):\n\u001b[1;32m      2\u001b[0m     cosmo \u001b[38;5;241m=\u001b[39m boltzmann(cosmo, conf)\n\u001b[0;32m----> 3\u001b[0m     modes \u001b[38;5;241m=\u001b[39m \u001b[43mlinear_modes\u001b[49m\u001b[43m(\u001b[49m\u001b[43mmodes\u001b[49m\u001b[43m,\u001b[49m\u001b[43m \u001b[49m\u001b[43mcosmo\u001b[49m\u001b[43m,\u001b[49m\u001b[43m \u001b[49m\u001b[43mconf\u001b[49m\u001b[43m)\u001b[49m\n\u001b[1;32m      4\u001b[0m     ptcl, obsvbl \u001b[38;5;241m=\u001b[39m lpt(modes, cosmo, conf)\n\u001b[1;32m      5\u001b[0m     ptcl, obsvbl \u001b[38;5;241m=\u001b[39m nbody(ptcl, obsvbl, cosmo, conf)\n",
      "    \u001b[0;31m[... skipping hidden 13 frame]\u001b[0m\n",
      "File \u001b[0;32m~/papyrus/IC/pmwd/venv/lib/python3.10/site-packages/jax/_src/ad_checkpoint.py:341\u001b[0m, in \u001b[0;36m_remat_static_argnums\u001b[0;34m(fun, static_argnums, args)\u001b[0m\n\u001b[1;32m    336\u001b[0m   \u001b[38;5;28;01mraise\u001b[39;00m \u001b[38;5;167;01mTypeError\u001b[39;00m(\u001b[38;5;124m\"\u001b[39m\u001b[38;5;124mthe `static_argnums` argument to `jax.checkpoint` / \u001b[39m\u001b[38;5;124m\"\u001b[39m\n\u001b[1;32m    337\u001b[0m                   \u001b[38;5;124m\"\u001b[39m\u001b[38;5;124m`jax.remat` must be an int, tuple of ints or, bool, but \u001b[39m\u001b[38;5;124m\"\u001b[39m\n\u001b[1;32m    338\u001b[0m                   \u001b[38;5;124mf\u001b[39m\u001b[38;5;124m\"\u001b[39m\u001b[38;5;124mgot value \u001b[39m\u001b[38;5;132;01m{\u001b[39;00mstatic_argnums\u001b[38;5;132;01m}\u001b[39;00m\u001b[38;5;124m\"\u001b[39m)\n\u001b[1;32m    340\u001b[0m \u001b[38;5;28;01mif\u001b[39;00m \u001b[38;5;129;01mnot\u001b[39;00m \u001b[38;5;28mall\u001b[39m(\u001b[38;5;241m-\u001b[39m\u001b[38;5;28mlen\u001b[39m(args) \u001b[38;5;241m<\u001b[39m\u001b[38;5;241m=\u001b[39m d \u001b[38;5;241m<\u001b[39m \u001b[38;5;28mlen\u001b[39m(args) \u001b[38;5;28;01mfor\u001b[39;00m d \u001b[38;5;129;01min\u001b[39;00m static_argnums):\n\u001b[0;32m--> 341\u001b[0m   \u001b[38;5;28;01mraise\u001b[39;00m \u001b[38;5;167;01mValueError\u001b[39;00m(\u001b[38;5;124m\"\u001b[39m\u001b[38;5;124mthe `static_argnums` argument to `jax.checkpoint` / \u001b[39m\u001b[38;5;124m\"\u001b[39m\n\u001b[1;32m    342\u001b[0m                    \u001b[38;5;124m\"\u001b[39m\u001b[38;5;124m`jax.remat` can only take integer values greater than or \u001b[39m\u001b[38;5;124m\"\u001b[39m\n\u001b[1;32m    343\u001b[0m                    \u001b[38;5;124m\"\u001b[39m\u001b[38;5;124mequal to `-len(args)` and less than `len(args)`, but got \u001b[39m\u001b[38;5;124m\"\u001b[39m\n\u001b[1;32m    344\u001b[0m                    \u001b[38;5;124mf\u001b[39m\u001b[38;5;124m\"\u001b[39m\u001b[38;5;132;01m{\u001b[39;00mstatic_argnums\u001b[38;5;132;01m}\u001b[39;00m\u001b[38;5;124m\"\u001b[39m)\n\u001b[1;32m    346\u001b[0m \u001b[38;5;28;01mif\u001b[39;00m \u001b[38;5;129;01mnot\u001b[39;00m static_argnums:\n\u001b[1;32m    347\u001b[0m   \u001b[38;5;28;01mreturn\u001b[39;00m fun, args\n",
      "\u001b[0;31mValueError\u001b[0m: the `static_argnums` argument to `jax.checkpoint` / `jax.remat` can only take integer values greater than or equal to `-len(args)` and less than `len(args)`, but got (4,)"
     ]
    },
    {
     "ename": "ValueError",
     "evalue": "the `static_argnums` argument to `jax.checkpoint` / `jax.remat` can only take integer values greater than or equal to `-len(args)` and less than `len(args)`, but got (4,)",
     "output_type": "error",
     "traceback": [
      "\u001b[0;31m---------------------------------------------------------------------------\u001b[0m",
      "\u001b[0;31mValueError\u001b[0m                                Traceback (most recent call last)",
      "File \u001b[0;32m<timed exec>:1\u001b[0m\n",
      "    \u001b[0;31m[... skipping hidden 10 frame]\u001b[0m\n",
      "Cell \u001b[0;32mIn[14], line 3\u001b[0m, in \u001b[0;36mobj\u001b[0;34m(tgt_dens, modes, cosmo, conf)\u001b[0m\n\u001b[1;32m      1\u001b[0m \u001b[38;5;28;01mdef\u001b[39;00m \u001b[38;5;21mobj\u001b[39m(tgt_dens, modes, cosmo, conf):\n\u001b[1;32m      2\u001b[0m     cosmo \u001b[38;5;241m=\u001b[39m boltzmann(cosmo, conf)\n\u001b[0;32m----> 3\u001b[0m     modes \u001b[38;5;241m=\u001b[39m \u001b[43mlinear_modes\u001b[49m\u001b[43m(\u001b[49m\u001b[43mmodes\u001b[49m\u001b[43m,\u001b[49m\u001b[43m \u001b[49m\u001b[43mcosmo\u001b[49m\u001b[43m,\u001b[49m\u001b[43m \u001b[49m\u001b[43mconf\u001b[49m\u001b[43m)\u001b[49m\n\u001b[1;32m      4\u001b[0m     ptcl, obsvbl \u001b[38;5;241m=\u001b[39m lpt(modes, cosmo, conf)\n\u001b[1;32m      5\u001b[0m     ptcl, obsvbl \u001b[38;5;241m=\u001b[39m nbody(ptcl, obsvbl, cosmo, conf)\n",
      "    \u001b[0;31m[... skipping hidden 13 frame]\u001b[0m\n",
      "File \u001b[0;32m~/papyrus/IC/pmwd/venv/lib/python3.10/site-packages/jax/_src/ad_checkpoint.py:341\u001b[0m, in \u001b[0;36m_remat_static_argnums\u001b[0;34m(fun, static_argnums, args)\u001b[0m\n\u001b[1;32m    336\u001b[0m   \u001b[38;5;28;01mraise\u001b[39;00m \u001b[38;5;167;01mTypeError\u001b[39;00m(\u001b[38;5;124m\"\u001b[39m\u001b[38;5;124mthe `static_argnums` argument to `jax.checkpoint` / \u001b[39m\u001b[38;5;124m\"\u001b[39m\n\u001b[1;32m    337\u001b[0m                   \u001b[38;5;124m\"\u001b[39m\u001b[38;5;124m`jax.remat` must be an int, tuple of ints or, bool, but \u001b[39m\u001b[38;5;124m\"\u001b[39m\n\u001b[1;32m    338\u001b[0m                   \u001b[38;5;124mf\u001b[39m\u001b[38;5;124m\"\u001b[39m\u001b[38;5;124mgot value \u001b[39m\u001b[38;5;132;01m{\u001b[39;00mstatic_argnums\u001b[38;5;132;01m}\u001b[39;00m\u001b[38;5;124m\"\u001b[39m)\n\u001b[1;32m    340\u001b[0m \u001b[38;5;28;01mif\u001b[39;00m \u001b[38;5;129;01mnot\u001b[39;00m \u001b[38;5;28mall\u001b[39m(\u001b[38;5;241m-\u001b[39m\u001b[38;5;28mlen\u001b[39m(args) \u001b[38;5;241m<\u001b[39m\u001b[38;5;241m=\u001b[39m d \u001b[38;5;241m<\u001b[39m \u001b[38;5;28mlen\u001b[39m(args) \u001b[38;5;28;01mfor\u001b[39;00m d \u001b[38;5;129;01min\u001b[39;00m static_argnums):\n\u001b[0;32m--> 341\u001b[0m   \u001b[38;5;28;01mraise\u001b[39;00m \u001b[38;5;167;01mValueError\u001b[39;00m(\u001b[38;5;124m\"\u001b[39m\u001b[38;5;124mthe `static_argnums` argument to `jax.checkpoint` / \u001b[39m\u001b[38;5;124m\"\u001b[39m\n\u001b[1;32m    342\u001b[0m                    \u001b[38;5;124m\"\u001b[39m\u001b[38;5;124m`jax.remat` can only take integer values greater than or \u001b[39m\u001b[38;5;124m\"\u001b[39m\n\u001b[1;32m    343\u001b[0m                    \u001b[38;5;124m\"\u001b[39m\u001b[38;5;124mequal to `-len(args)` and less than `len(args)`, but got \u001b[39m\u001b[38;5;124m\"\u001b[39m\n\u001b[1;32m    344\u001b[0m                    \u001b[38;5;124mf\u001b[39m\u001b[38;5;124m\"\u001b[39m\u001b[38;5;132;01m{\u001b[39;00mstatic_argnums\u001b[38;5;132;01m}\u001b[39;00m\u001b[38;5;124m\"\u001b[39m)\n\u001b[1;32m    346\u001b[0m \u001b[38;5;28;01mif\u001b[39;00m \u001b[38;5;129;01mnot\u001b[39;00m static_argnums:\n\u001b[1;32m    347\u001b[0m   \u001b[38;5;28;01mreturn\u001b[39;00m fun, args\n",
      "\u001b[0;31mValueError\u001b[0m: the `static_argnums` argument to `jax.checkpoint` / `jax.remat` can only take integer values greater than or equal to `-len(args)` and less than `len(args)`, but got (4,)"
     ]
    }
   ],
   "source": [
    "def obj(tgt_dens, modes, cosmo, conf):\n",
    "    cosmo = boltzmann(cosmo, conf)\n",
    "    modes = linear_modes(modes, cosmo, conf)\n",
    "    ptcl, obsvbl = lpt(modes, cosmo, conf)\n",
    "    ptcl, obsvbl = nbody(ptcl, obsvbl, cosmo, conf)\n",
    "    dens = scatter(ptcl, conf)\n",
    "    return (dens - tgt_dens).var()\n",
    "\n",
    "obj_grad = jax.grad(obj, argnums=(1, 2))\n",
    "\n",
    "print(f'Simulating {conf.ptcl_num} particles with a {conf.mesh_shape} mesh for {conf.a_nbody_num} time steps, '\n",
    "      'and then differentiating backward.')\n",
    "%time jax.block_until_ready(obj_grad(dens, modes, cosmo, conf))\n",
    "%time modes_grad, cosmo_grad = jax.block_until_ready(obj_grad(dens, modes, cosmo, conf))"
   ]
  },
  {
   "cell_type": "markdown",
   "id": "5767210d",
   "metadata": {
    "slideshow": {
     "slide_type": "subslide"
    }
   },
   "source": [
    "A slice of the mode gradients:"
   ]
  },
  {
   "cell_type": "code",
   "execution_count": 15,
   "id": "d7393d2b",
   "metadata": {
    "slideshow": {
     "slide_type": ""
    },
    "tags": []
   },
   "outputs": [
    {
     "ename": "NameError",
     "evalue": "name 'modes_grad' is not defined",
     "output_type": "error",
     "traceback": [
      "\u001b[0;31m---------------------------------------------------------------------------\u001b[0m",
      "\u001b[0;31mNameError\u001b[0m                                 Traceback (most recent call last)",
      "Cell \u001b[0;32mIn[15], line 1\u001b[0m\n\u001b[0;32m----> 1\u001b[0m simshow(\u001b[43mmodes_grad\u001b[49m[\u001b[38;5;241m.\u001b[39m\u001b[38;5;241m.\u001b[39m\u001b[38;5;241m.\u001b[39m, \u001b[38;5;241m0\u001b[39m], cmap\u001b[38;5;241m=\u001b[39m\u001b[38;5;124m'\u001b[39m\u001b[38;5;124mRdBu_r\u001b[39m\u001b[38;5;124m'\u001b[39m, vmin\u001b[38;5;241m=\u001b[39m\u001b[38;5;241m-\u001b[39m\u001b[38;5;241m0.04\u001b[39m, vmax\u001b[38;5;241m=\u001b[39m\u001b[38;5;241m0.04\u001b[39m);\n",
      "\u001b[0;31mNameError\u001b[0m: name 'modes_grad' is not defined"
     ]
    }
   ],
   "source": [
    "simshow(modes_grad[..., 0], cmap='RdBu_r', vmin=-0.04, vmax=0.04);"
   ]
  },
  {
   "cell_type": "markdown",
   "id": "c39ebbe8",
   "metadata": {
    "slideshow": {
     "slide_type": "subslide"
    }
   },
   "source": [
    "Cosmological parameter gradients:"
   ]
  },
  {
   "cell_type": "code",
   "execution_count": null,
   "id": "65e1656e",
   "metadata": {
    "slideshow": {
     "slide_type": ""
    },
    "tags": []
   },
   "outputs": [],
   "source": [
    "print(cosmo_grad)"
   ]
  }
 ],
 "metadata": {
  "celltoolbar": "Slideshow",
  "kernelspec": {
   "display_name": "env",
   "language": "python",
   "name": "python3"
  },
  "language_info": {
   "codemirror_mode": {
    "name": "ipython",
    "version": 3
   },
   "file_extension": ".py",
   "mimetype": "text/x-python",
   "name": "python",
   "nbconvert_exporter": "python",
   "pygments_lexer": "ipython3",
   "version": "3.10.12"
  }
 },
 "nbformat": 4,
 "nbformat_minor": 5
}
